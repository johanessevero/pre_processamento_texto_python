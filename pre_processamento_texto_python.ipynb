{
 "cells": [
  {
   "cell_type": "markdown",
   "id": "7064377d",
   "metadata": {},
   "source": [
    "## Pré-processamento de texto: limpeza de texto e representação de texto, exemplos em python"
   ]
  },
  {
   "cell_type": "markdown",
   "id": "c2b5cbd7",
   "metadata": {},
   "source": [
    "### Limpeza de texto\n",
    "\n",
    "A limpeza de texto é uma etapa essencial no pré-processamento de texto, que visa remover elementos indesejados, como caracteres especiais, símbolos, números, stopwords e outros ruídos que podem interferir na análise e no desempenho dos modelos de aprendizado de máquina. Essa etapa é importante para garantir que os dados textuais estejam em um formato adequado para as etapas subsequentes de processamento e análise.\n",
    "\n",
    "A limpeza de texto em Python pode ser feita utilizando a biblioteca <code>nltk</code> (Natural Language Toolkit) e a biblioteca <code>re</code> para aplicação de expressões regulares:\n",
    "\n",
    "- Remoção de caracteres especiais e símbolos:"
   ]
  },
  {
   "cell_type": "code",
   "execution_count": 2,
   "id": "ce68d6eb",
   "metadata": {},
   "outputs": [
    {
     "name": "stdout",
     "output_type": "stream",
     "text": [
      "saída:  \n",
      "        Albert Einstein Ulm 14 de março de 1879  Princeton 18 de abril de 1955 foi um físico teórico alemão que desenvolveu a teoria da relatividade geral um dos pilares da física moderna ao lado da mecânica quântica Embora mais conhecido por sua fórmula de equivalência massaenergia E  mc²  que foi chamada de a equação mais famosa do mundo  foi laureado com o Prêmio Nobel de Física de 1921 por suas contribuições à física teórica e especialmente por sua descoberta da lei do efeito fotoelétrico que foi fundamental no estabelecimento da teoria quântica\n",
      "        Nascido em uma família de judeus alemães mudouse para a Suíça ainda jovem e iniciou seus estudos na Escola Politécnica de Zurique Após dois anos procurando emprego obteve um cargo no escritório de patentes suíço enquanto ingressava no curso de doutorado da Universidade de Zurique Em 1905 publicou uma série de artigos acadêmicos revolucionários Uma de suas obras era o desenvolvimento da teoria da relatividade especial Percebeu no entanto que o princípio da relatividade também poderia ser estendido para campos gravitacionais e com a sua posterior teoria da gravitação de 1916 publicou um artigo sobre a teoria da relatividade geral Enquanto acumulava cargos em universidades e instituições continuou a lidar com problemas da mecânica estatística e teoria quântica o que levou às suas explicações sobre a teoria das partículas e o movimento browniano Também investigou as propriedades térmicas da luz o que lançou as bases da teoria dos fótons Em 1917 aplicou a teoria da relatividade geral para modelar a estrutura do universo como um todo Suas obras renderamlhe o status de celebridade mundial enquanto tornavase uma nova figura na história da humanidade recebendo prêmios internacionais e sendo convidado de chefes de estado e autoridades\n",
      "    \n"
     ]
    }
   ],
   "source": [
    "import re\n",
    "\n",
    "text = '''\n",
    "        Albert Einstein (Ulm, 14 de março de 1879 – Princeton, 18 de abril de 1955) foi um físico teórico alemão que desenvolveu a teoria da relatividade geral, um dos pilares da física moderna ao lado da mecânica quântica. Embora mais conhecido por sua fórmula de equivalência massa-energia, E = mc² — que foi chamada de \"a equação mais famosa do mundo\" —, foi laureado com o Prêmio Nobel de Física de 1921 \"por suas contribuições à física teórica\" e, especialmente, por sua descoberta da lei do efeito fotoelétrico, que foi fundamental no estabelecimento da teoria quântica.\n",
    "        Nascido em uma família de judeus alemães, mudou-se para a Suíça ainda jovem e iniciou seus estudos na Escola Politécnica de Zurique. Após dois anos procurando emprego, obteve um cargo no escritório de patentes suíço enquanto ingressava no curso de doutorado da Universidade de Zurique. Em 1905, publicou uma série de artigos acadêmicos revolucionários. Uma de suas obras era o desenvolvimento da teoria da relatividade especial. Percebeu, no entanto, que o princípio da relatividade também poderia ser estendido para campos gravitacionais, e com a sua posterior teoria da gravitação, de 1916, publicou um artigo sobre a teoria da relatividade geral. Enquanto acumulava cargos em universidades e instituições, continuou a lidar com problemas da mecânica estatística e teoria quântica, o que levou às suas explicações sobre a teoria das partículas e o movimento browniano. Também investigou as propriedades térmicas da luz, o que lançou as bases da teoria dos fótons. Em 1917, aplicou a teoria da relatividade geral para modelar a estrutura do universo como um todo. Suas obras renderam-lhe o status de celebridade mundial enquanto tornava-se uma nova figura na história da humanidade, recebendo prêmios internacionais e sendo convidado de chefes de estado e autoridades.\n",
    "    '''\n",
    "text_clean = re.sub(r'[^\\w\\s]', '', text)\n",
    "print(\"saída: \", text_clean)"
   ]
  },
  {
   "cell_type": "markdown",
   "id": "928a7159",
   "metadata": {},
   "source": [
    "O trecho acima aplicando a expressão regular <code>[^\\w\\s]</code> remove o que não for caracteres alfanuméricos."
   ]
  },
  {
   "cell_type": "markdown",
   "id": "9e449d11",
   "metadata": {},
   "source": [
    " - Remoção de pontuação:"
   ]
  },
  {
   "cell_type": "code",
   "execution_count": 3,
   "id": "670559f2",
   "metadata": {},
   "outputs": [
    {
     "name": "stdout",
     "output_type": "stream",
     "text": [
      "!\"#$%&'()*+,-./:;<=>?@[\\]^_`{|}~\n",
      "\n",
      "        Albert Einstein Ulm 14 de março de 1879  Princeton 18 de abril de 1955 foi um físico teórico alemão que desenvolveu a teoria da relatividade geral um dos pilares da física moderna ao lado da mecânica quântica Embora mais conhecido por sua fórmula de equivalência massaenergia E  mc²  que foi chamada de a equação mais famosa do mundo  foi laureado com o Prêmio Nobel de Física de 1921 por suas contribuições à física teórica e especialmente por sua descoberta da lei do efeito fotoelétrico que foi fundamental no estabelecimento da teoria quântica\n",
      "        Nascido em uma família de judeus alemães mudouse para a Suíça ainda jovem e iniciou seus estudos na Escola Politécnica de Zurique Após dois anos procurando emprego obteve um cargo no escritório de patentes suíço enquanto ingressava no curso de doutorado da Universidade de Zurique Em 1905 publicou uma série de artigos acadêmicos revolucionários Uma de suas obras era o desenvolvimento da teoria da relatividade especial Percebeu no entanto que o princípio da relatividade também poderia ser estendido para campos gravitacionais e com a sua posterior teoria da gravitação de 1916 publicou um artigo sobre a teoria da relatividade geral Enquanto acumulava cargos em universidades e instituições continuou a lidar com problemas da mecânica estatística e teoria quântica o que levou às suas explicações sobre a teoria das partículas e o movimento browniano Também investigou as propriedades térmicas da luz o que lançou as bases da teoria dos fótons Em 1917 aplicou a teoria da relatividade geral para modelar a estrutura do universo como um todo Suas obras renderamlhe o status de celebridade mundial enquanto tornavase uma nova figura na história da humanidade recebendo prêmios internacionais e sendo convidado de chefes de estado e autoridades\n",
      "    \n"
     ]
    }
   ],
   "source": [
    "import string\n",
    "\n",
    "print(string.punctuation)\n",
    "text_no_punctuation = text_clean.translate(str.maketrans(\"\", \"\", string.punctuation))\n",
    "print(text_no_punctuation)"
   ]
  },
  {
   "cell_type": "markdown",
   "id": "fb2893be",
   "metadata": {},
   "source": [
    "- Remoção de números:"
   ]
  },
  {
   "cell_type": "code",
   "execution_count": 4,
   "id": "8a6b0a11",
   "metadata": {},
   "outputs": [
    {
     "name": "stdout",
     "output_type": "stream",
     "text": [
      "\n",
      "        Albert Einstein Ulm  de março de   Princeton  de abril de  foi um físico teórico alemão que desenvolveu a teoria da relatividade geral um dos pilares da física moderna ao lado da mecânica quântica Embora mais conhecido por sua fórmula de equivalência massaenergia E  mc²  que foi chamada de a equação mais famosa do mundo  foi laureado com o Prêmio Nobel de Física de  por suas contribuições à física teórica e especialmente por sua descoberta da lei do efeito fotoelétrico que foi fundamental no estabelecimento da teoria quântica\n",
      "        Nascido em uma família de judeus alemães mudouse para a Suíça ainda jovem e iniciou seus estudos na Escola Politécnica de Zurique Após dois anos procurando emprego obteve um cargo no escritório de patentes suíço enquanto ingressava no curso de doutorado da Universidade de Zurique Em  publicou uma série de artigos acadêmicos revolucionários Uma de suas obras era o desenvolvimento da teoria da relatividade especial Percebeu no entanto que o princípio da relatividade também poderia ser estendido para campos gravitacionais e com a sua posterior teoria da gravitação de  publicou um artigo sobre a teoria da relatividade geral Enquanto acumulava cargos em universidades e instituições continuou a lidar com problemas da mecânica estatística e teoria quântica o que levou às suas explicações sobre a teoria das partículas e o movimento browniano Também investigou as propriedades térmicas da luz o que lançou as bases da teoria dos fótons Em  aplicou a teoria da relatividade geral para modelar a estrutura do universo como um todo Suas obras renderamlhe o status de celebridade mundial enquanto tornavase uma nova figura na história da humanidade recebendo prêmios internacionais e sendo convidado de chefes de estado e autoridades\n",
      "    \n"
     ]
    }
   ],
   "source": [
    "text_clean = re.sub(r'\\d+', '', text_clean)\n",
    "print(text_clean)"
   ]
  },
  {
   "cell_type": "markdown",
   "id": "b50f5e1d",
   "metadata": {},
   "source": [
    "O trecho acima aplicando a expressão regular <code>\\d+</code> remove o que for número."
   ]
  },
  {
   "cell_type": "markdown",
   "id": "c2c86f45",
   "metadata": {},
   "source": [
    "- Conversão para letras minúsculas:"
   ]
  },
  {
   "cell_type": "code",
   "execution_count": 5,
   "id": "a0fe43ad",
   "metadata": {},
   "outputs": [
    {
     "name": "stdout",
     "output_type": "stream",
     "text": [
      "\n",
      "        albert einstein ulm  de março de   princeton  de abril de  foi um físico teórico alemão que desenvolveu a teoria da relatividade geral um dos pilares da física moderna ao lado da mecânica quântica embora mais conhecido por sua fórmula de equivalência massaenergia e  mc²  que foi chamada de a equação mais famosa do mundo  foi laureado com o prêmio nobel de física de  por suas contribuições à física teórica e especialmente por sua descoberta da lei do efeito fotoelétrico que foi fundamental no estabelecimento da teoria quântica\n",
      "        nascido em uma família de judeus alemães mudouse para a suíça ainda jovem e iniciou seus estudos na escola politécnica de zurique após dois anos procurando emprego obteve um cargo no escritório de patentes suíço enquanto ingressava no curso de doutorado da universidade de zurique em  publicou uma série de artigos acadêmicos revolucionários uma de suas obras era o desenvolvimento da teoria da relatividade especial percebeu no entanto que o princípio da relatividade também poderia ser estendido para campos gravitacionais e com a sua posterior teoria da gravitação de  publicou um artigo sobre a teoria da relatividade geral enquanto acumulava cargos em universidades e instituições continuou a lidar com problemas da mecânica estatística e teoria quântica o que levou às suas explicações sobre a teoria das partículas e o movimento browniano também investigou as propriedades térmicas da luz o que lançou as bases da teoria dos fótons em  aplicou a teoria da relatividade geral para modelar a estrutura do universo como um todo suas obras renderamlhe o status de celebridade mundial enquanto tornavase uma nova figura na história da humanidade recebendo prêmios internacionais e sendo convidado de chefes de estado e autoridades\n",
      "    \n"
     ]
    }
   ],
   "source": [
    "text_lower = text_clean.lower()\n",
    "print(text_lower)"
   ]
  },
  {
   "cell_type": "markdown",
   "id": "241f224e",
   "metadata": {},
   "source": [
    "- Remoção de espaços em branco extras:"
   ]
  },
  {
   "cell_type": "code",
   "execution_count": 6,
   "id": "38ae46c1",
   "metadata": {},
   "outputs": [
    {
     "name": "stdout",
     "output_type": "stream",
     "text": [
      "albert einstein ulm de março de princeton de abril de foi um físico teórico alemão que desenvolveu a teoria da relatividade geral um dos pilares da física moderna ao lado da mecânica quântica embora mais conhecido por sua fórmula de equivalência massaenergia e mc² que foi chamada de a equação mais famosa do mundo foi laureado com o prêmio nobel de física de por suas contribuições à física teórica e especialmente por sua descoberta da lei do efeito fotoelétrico que foi fundamental no estabelecimento da teoria quântica nascido em uma família de judeus alemães mudouse para a suíça ainda jovem e iniciou seus estudos na escola politécnica de zurique após dois anos procurando emprego obteve um cargo no escritório de patentes suíço enquanto ingressava no curso de doutorado da universidade de zurique em publicou uma série de artigos acadêmicos revolucionários uma de suas obras era o desenvolvimento da teoria da relatividade especial percebeu no entanto que o princípio da relatividade também poderia ser estendido para campos gravitacionais e com a sua posterior teoria da gravitação de publicou um artigo sobre a teoria da relatividade geral enquanto acumulava cargos em universidades e instituições continuou a lidar com problemas da mecânica estatística e teoria quântica o que levou às suas explicações sobre a teoria das partículas e o movimento browniano também investigou as propriedades térmicas da luz o que lançou as bases da teoria dos fótons em aplicou a teoria da relatividade geral para modelar a estrutura do universo como um todo suas obras renderamlhe o status de celebridade mundial enquanto tornavase uma nova figura na história da humanidade recebendo prêmios internacionais e sendo convidado de chefes de estado e autoridades\n"
     ]
    }
   ],
   "source": [
    "text_clean = \" \".join(text_lower.split())\n",
    "print(text_clean)"
   ]
  },
  {
   "cell_type": "markdown",
   "id": "645e538e",
   "metadata": {},
   "source": [
    "Stopwords são palavras comuns que geralmente são filtradas em análises de texto porque não contribuem muito para o significado.\n",
    "\n",
    "- Remoção de stopwords:"
   ]
  },
  {
   "cell_type": "code",
   "execution_count": 7,
   "id": "9fd25791",
   "metadata": {},
   "outputs": [
    {
     "name": "stderr",
     "output_type": "stream",
     "text": [
      "[nltk_data] Downloading package stopwords to\n",
      "[nltk_data]     C:\\Users\\johnsan2\\AppData\\Roaming\\nltk_data...\n"
     ]
    },
    {
     "name": "stdout",
     "output_type": "stream",
     "text": [
      "albert einstein ulm março princeton abril físico teórico alemão desenvolveu teoria relatividade geral pilares física moderna lado mecânica quântica embora conhecido fórmula equivalência massaenergia mc² chamada equação famosa mundo laureado prêmio nobel física contribuições física teórica especialmente descoberta lei efeito fotoelétrico fundamental estabelecimento teoria quântica nascido família judeus alemães mudouse suíça ainda jovem iniciou estudos escola politécnica zurique após dois anos procurando emprego obteve cargo escritório patentes suíço enquanto ingressava curso doutorado universidade zurique publicou série artigos acadêmicos revolucionários obras desenvolvimento teoria relatividade especial percebeu entanto princípio relatividade poderia estendido campos gravitacionais posterior teoria gravitação publicou artigo sobre teoria relatividade geral enquanto acumulava cargos universidades instituições continuou lidar problemas mecânica estatística teoria quântica levou explicações sobre teoria partículas movimento browniano investigou propriedades térmicas luz lançou bases teoria fótons aplicou teoria relatividade geral modelar estrutura universo todo obras renderamlhe status celebridade mundial enquanto tornavase nova figura história humanidade recebendo prêmios internacionais sendo convidado chefes estado autoridades\n"
     ]
    },
    {
     "name": "stderr",
     "output_type": "stream",
     "text": [
      "[nltk_data]   Package stopwords is already up-to-date!\n"
     ]
    }
   ],
   "source": [
    "#importa a biblioteca nltk e dois módulos específicos dela: stopwords, word_tokenize\n",
    "import nltk\n",
    "from nltk.corpus import stopwords\n",
    "from nltk.tokenize import word_tokenize\n",
    "\n",
    "#download dos stopwords em português usando o método nltk.download()\n",
    "nltk.download('stopwords')\n",
    "stop_words = set(stopwords.words('portuguese'))\n",
    "\n",
    "#divide o texto em uma lista de tokens individuais\n",
    "tokens = word_tokenize(text_clean)\n",
    "\n",
    "#percorre cada token na lista tokens e verifica se o token em letras minúsculas não está presente no conjunto de stop_words;\n",
    "#se o token não for uma stopword, ele é adicionado à lista text_no_stopwords.\n",
    "text_no_stopwords = [token for token in tokens if token.lower() not in stop_words]\n",
    "\n",
    "#imprime o texto sem stop words\n",
    "text_clean = ' '.join(text_no_stopwords)\n",
    "print(text_clean)"
   ]
  },
  {
   "cell_type": "markdown",
   "id": "208ec0bc",
   "metadata": {},
   "source": [
    "### Stemming e Lematização\n",
    "\n",
    "Stemming e lematização são técnicas comumente utilizadas no pré-processamento de texto para reduzir as palavras a sua forma base ou raiz, a fim de lidar com variações morfológicas e melhorar a eficácia das análises de texto. Ambas as técnicas visam simplificar as palavras, mas de maneiras diferentes.\n",
    "\n",
    "O stemming é um processo de remoção de sufixos e prefixos das palavras, mantendo apenas a raiz. Ele utiliza regras heurísticas simples para realizar essa redução. O objetivo é trazer diferentes variações de uma palavra para a sua forma base, mesmo que a raiz resultante não seja um termo válido ou reconhecível em um dicionário. Por exemplo, o stemming pode transformar as palavras \"jogar\", \"jogando\" e \"jogador\" em sua forma base \"jog\".\n",
    "\n",
    "A biblioteca nltk em Python fornece um módulo chamado <code>RSLPStemmer</code> que implementa o algoritmo stemming RSLP (Removedor de Sufixos da Língua Portuguesa) aos tokens do texto. Aqui está um exemplo de como usar o <code>RSLPStemmer</code>:"
   ]
  },
  {
   "cell_type": "code",
   "execution_count": 8,
   "id": "32db6f8d",
   "metadata": {},
   "outputs": [
    {
     "name": "stdout",
     "output_type": "stream",
     "text": [
      "['albert', 'einstein', 'ulm', 'març', 'princeton', 'abril', 'físic', 'teór', 'alem', 'desenvolv', 'teor', 'relat', 'geral', 'pil', 'físic', 'modern', 'lad', 'mecân', 'quân', 'emb', 'conhec', 'fórmul', 'equival', 'massaenerg', 'mc²', 'cham', 'equaç', 'fam', 'mund', 'laure', 'prêmi', 'nobel', 'físic', 'contribu', 'físic', 'teór', 'espec', 'descobert', 'lei', 'efeit', 'fotoelétr', 'fundament', 'estabelec', 'teor', 'quân', 'nasc', 'famíl', 'jud', 'alem', 'mudous', 'suíç', 'aind', 'jov', 'inici', 'estud', 'escol', 'politécn', 'zuriqu', 'após', 'doi', 'ano', 'procur', 'empreg', 'obtev', 'carg', 'escritóri', 'patent', 'suíç', 'enquant', 'ingress', 'curs', 'doutor', 'univers', 'zuriqu', 'public', 'séri', 'artig', 'acadêm', 'revolucion', 'obr', 'desenvolv', 'teor', 'relat', 'espec', 'perceb', 'entant', 'princípi', 'relat', 'pod', 'estend', 'camp', 'gravitac', 'posteri', 'teor', 'gravit', 'public', 'artig', 'sobr', 'teor', 'relat', 'geral', 'enquant', 'acumul', 'carg', 'univers', 'institu', 'continu', 'lid', 'problem', 'mecân', 'estatís', 'teor', 'quân', 'lev', 'explic', 'sobr', 'teor', 'partícul', 'mov', 'browni', 'investig', 'propriedad', 'térm', 'luz', 'lanç', 'bas', 'teor', 'fótom', 'aplic', 'teor', 'relat', 'geral', 'model', 'estrut', 'univers', 'tod', 'obr', 'renderamlh', 'statu', 'celebr', 'mund', 'enquant', 'tornavas', 'nov', 'figur', 'histór', 'human', 'receb', 'prêmi', 'internac', 'send', 'convid', 'chef', 'est', 'autoridad']\n"
     ]
    }
   ],
   "source": [
    "from nltk.stem import RSLPStemmer\n",
    "from nltk.tokenize import word_tokenize\n",
    "\n",
    "stemmer = RSLPStemmer()\n",
    "\n",
    "text = text_no_stopwords.copy()\n",
    "\n",
    "stemmed_text = [stemmer.stem(token) for token in text]\n",
    "\n",
    "print('saída:')\n",
    "print(stemmed_text)"
   ]
  },
  {
   "cell_type": "markdown",
   "id": "618a75ec",
   "metadata": {},
   "source": [
    "A saída é um array com as palavras reduzidas para suas formas base."
   ]
  },
  {
   "cell_type": "markdown",
   "id": "960dda57",
   "metadata": {},
   "source": [
    "A lematização é uma técnica mais avançada que considera a estrutura gramatical da palavra. Ela mapeia as palavras para a sua forma lematizada, que é um termo válido e reconhecível em um dicionário. Por exemplo, a palavra \"corrida\" será lematizada para \"correr\". A lematização preserva o significado das palavras de forma mais precisa do que o stemming.\n",
    "\n",
    "o Spacy é uma biblioteca de processamento de linguagem natural que oferece suporte à lematização em várias línguas, incluindo o português. O modelo pré-treinado 'pt_core_news_sm' é carregado para a língua portuguesa. Ele é um modelo de processamento de linguagem natural para a língua portuguesa que foi treinado em um grande conjunto de dados em português para aprender padrões linguísticos e realizar várias tarefas de processamento de texto. O texto é processado pelo modelo e cada token é lematizado usando o atributo <code>lemma_</code>. Aqui está um exemplo de como usar o lematizador do spacy:"
   ]
  },
  {
   "cell_type": "code",
   "execution_count": 20,
   "id": "0434a04a",
   "metadata": {},
   "outputs": [
    {
     "name": "stdout",
     "output_type": "stream",
     "text": [
      "saída: \n",
      "[[albert, 'albert'], [einstein, 'einstein'], [ulm, 'ulm'], [março, 'março'], [princeton, 'princeton'], [abril, 'abril'], [físico, 'físico'], [teórico, 'teórico'], [alemão, 'alemão'], [desenvolveu, 'desenvolver'], [teoria, 'teoria'], [relatividade, 'relatividade'], [geral, 'geral'], [pilares, 'pilar'], [física, 'físico'], [moderna, 'moderno'], [lado, 'lado'], [mecânica, 'mecânico'], [quântica, 'quântico'], [embora, 'embora'], [conhecido, 'conhecer'], [fórmula, 'fórmula'], [equivalência, 'equivalência'], [massaenergia, 'massaenergio'], [mc², 'mc²'], [chamada, 'chamar'], [equação, 'equação'], [famosa, 'famoso'], [mundo, 'mundo'], [laureado, 'laurear'], [prêmio, 'prêmio'], [nobel, 'nobel'], [física, 'físico'], [contribuições, 'contribuição'], [física, 'físico'], [teórica, 'teórico'], [especialmente, 'especialmente'], [descoberta, 'descobrir'], [lei, 'lei'], [efeito, 'efeito'], [fotoelétrico, 'fotoelétrico'], [fundamental, 'fundamental'], [estabelecimento, 'estabelecimento'], [teoria, 'teoria'], [quântica, 'quântico'], [nascido, 'nascer'], [família, 'família'], [judeus, 'judeu'], [alemães, 'alemão'], [mudouse, 'mudouse'], [suíça, 'suíço'], [ainda, 'ainda'], [jovem, 'jovem'], [iniciou, 'iniciar'], [estudos, 'estudo'], [escola, 'escola'], [politécnica, 'politécnico'], [zurique, 'zurique'], [após, 'após'], [dois, 'dois'], [anos, 'ano'], [procurando, 'procurar'], [emprego, 'emprego'], [obteve, 'obter'], [cargo, 'cargo'], [escritório, 'escritório'], [patentes, 'patente'], [suíço, 'suíço'], [enquanto, 'enquanto'], [ingressava, 'ingressar'], [curso, 'curso'], [doutorado, 'doutorar'], [universidade, 'universidade'], [zurique, 'zurique'], [publicou, 'publicar'], [série, 'série'], [artigos, 'artigo'], [acadêmicos, 'acadêmico'], [revolucionários, 'revolucionário'], [obras, 'obra'], [desenvolvimento, 'desenvolvimento'], [teoria, 'teor'], [relatividade, 'relatividade'], [especial, 'especial'], [percebeu, 'perceber'], [entanto, 'entanto'], [princípio, 'princípio'], [relatividade, 'relatividade'], [poderia, 'poder'], [estendido, 'estender'], [campos, 'campo'], [gravitacionais, 'gravitacional'], [posterior, 'posterior'], [teoria, 'teoria'], [gravitação, 'gravitação'], [publicou, 'publicar'], [artigo, 'artigo'], [sobre, 'sobre'], [teoria, 'teoria'], [relatividade, 'relatividade'], [geral, 'geral'], [enquanto, 'enquanto'], [acumulava, 'acumular'], [cargos, 'cargo'], [universidades, 'universidade'], [instituições, 'instituição'], [continuou, 'continuar'], [lidar, 'lidar'], [problemas, 'problema'], [mecânica, 'mecânico'], [estatística, 'estatística'], [teoria, 'teorio'], [quântica, 'quântico'], [levou, 'levar'], [explicações, 'explicação'], [sobre, 'sobre'], [teoria, 'teoria'], [partículas, 'partícula'], [movimento, 'movimento'], [browniano, 'browniano'], [investigou, 'investigar'], [propriedades, 'propriedade'], [térmicas, 'térmico'], [luz, 'luz'], [lançou, 'lançar'], [bases, 'base'], [teoria, 'teoria'], [fótons, 'fótom'], [aplicou, 'aplicar'], [teoria, 'teorio'], [relatividade, 'relatividade'], [geral, 'geral'], [modelar, 'modelar'], [estrutura, 'estrutura'], [universo, 'universo'], [todo, 'todo'], [obras, 'obra'], [renderamlhe, 'renderamlher'], [status, 'status'], [celebridade, 'celebridade'], [mundial, 'mundial'], [enquanto, 'enquanto'], [tornavase, 'tornavase'], [nova, 'novo'], [figura, 'figura'], [história, 'histório'], [humanidade, 'humanidade'], [recebendo, 'receber'], [prêmios, 'prêmio'], [internacionais, 'internacional'], [sendo, 'ser'], [convidado, 'convidar'], [chefes, 'chefe'], [estado, 'estar'], [autoridades, 'autoridade']]\n"
     ]
    }
   ],
   "source": [
    "import spacy\n",
    "\n",
    "nlp = spacy.load('pt_core_news_sm')\n",
    "\n",
    "doc = nlp(text_clean)\n",
    "lemmatized_text = [[token, token.lemma_] for token in doc]\n",
    "\n",
    "print('saída: ')\n",
    "print(lemmatized_text)"
   ]
  },
  {
   "cell_type": "markdown",
   "id": "21af9fec",
   "metadata": {},
   "source": [
    "Como pode-se observar na saída as palavras foram lematizadas para suas formas base."
   ]
  },
  {
   "cell_type": "markdown",
   "id": "22d4f002",
   "metadata": {},
   "source": [
    "### Representação de texto\n",
    "\n",
    "A representação de texto é uma etapa crucial na preparação de texto para treinamento de modelos de aprendizagem de máquina. Ela envolve a conversão de texto bruto em uma forma numérica que os modelos de aprendizagem de máquina possam entender e processar.\n",
    "\n",
    "Existem várias abordagens comuns para a representação de texto, sendo as mais populares:\n",
    "\n",
    "- Bag of Words (BoW): Na abordagem BoW, cada documento é representado como um vetor que contém a contagem de ocorrência de cada palavra. A ordem das palavras é ignorada, e o foco está na frequência de ocorrência das palavras nos documentos. O BoW é fácil de implementar e interpretar, mas perde informações sobre a estrutura e ordem das palavras.\n",
    "\n",
    "- TF-IDF (Term Frequency-Inverse Document Frequency): O TF-IDF é uma técnica que combina a frequência de ocorrência de um termo em um documento (TF) com a raridade do termo em todo o conjunto de documentos (IDF). Isso atribui um peso maior a termos mais importantes e discriminativos, reduzindo o peso de termos comuns. O TF-IDF é útil para destacar palavras-chave e filtrar palavras menos informativas.\n",
    "\n",
    "- Word Embeddings: Os word embeddings são representações vetoriais de palavras que capturam informações semânticas e relacionais. Esses vetores são treinados em grandes conjuntos de dados de texto, onde palavras semanticamente semelhantes têm vetores próximos no espaço vetorial. Os embeddings são capazes de capturar relações de significado e são usados para alimentar modelos de aprendizagem de máquina em tarefas de processamento de texto, como classificação de sentimentos, tradução automática e análise de sentimento.\n",
    "\n",
    "    - Word2Vec, GloVe e BERT: Essas são implementações populares de word embeddings. O Word2Vec e o GloVe são algoritmos treinados em grandes conjuntos de dados de texto, enquanto o BERT é um modelo de linguagem pré-treinado que aprende representações contextuais de palavras. Esses modelos pré-treinados têm sido amplamente utilizados para obter representações de texto ricas em informações.\n",
    "\n",
    "Além dessas abordagens, outras técnicas incluem n-gramas, representação baseada em tópicos (como Latent Dirichlet Allocation - LDA) e técnicas baseadas em redes neurais, como redes LSTM e transformers.\n",
    "\n",
    "A escolha da representação de texto depende do problema específico, dos recursos disponíveis e da natureza dos dados. Em geral, é importante realizar uma análise exploratória de dados e experimentar diferentes técnicas para encontrar a representação de texto mais adequada para o modelo de aprendizagem de máquina que está sendo treinado."
   ]
  },
  {
   "cell_type": "markdown",
   "id": "e3ba9a44",
   "metadata": {},
   "source": [
    "#### Bag of Words (BOW)\n",
    "\n",
    "A abordagem Bag of Words (BoW) é uma técnica comum na representação de texto que converte documentos de texto em vetores numéricos, ignorando a estrutura e a ordem das palavras. Nessa abordagem, cada documento é tratado como um \"saco\" (conjunto) de palavras, onde a frequência de ocorrência de cada palavra é contabilizada. Essas contagens são usadas para construir um vetor que representa o documento.\n",
    "\n",
    "A representação do BoW consiste em três etapas principais:\n",
    "\n",
    "- Tokenização: os documentos são divididos em palavras individuais, conhecidas como tokens. Geralmente, a tokenização envolve a remoção de pontuação, caracteres especiais e espaços em branco, e a separação das palavras.\n",
    "\n",
    "- Construção do vocabulário: um vocabulário único é criado a partir de todas as palavras únicas encontradas nos documentos. Cada palavra é atribuída a um índice no vocabulário, criando assim um mapeamento entre as palavras e suas posições no vetor de representação.\n",
    "\n",
    "- Construção dos vetores de BoW: para cada documento, um vetor numérico é criado com base no vocabulário. O valor em cada posição do vetor é a frequência (ou uma métrica relacionada) de ocorrência da palavra correspondente no documento. Pode-se usar diferentes métricas, como a frequência bruta, a frequência relativa ou a frequência ponderada, como o TF-IDF.\n",
    "\n",
    "A seguir há um exemplo de como criar uma representação de BoW usando a biblioteca sklearn em Python:"
   ]
  },
  {
   "cell_type": "code",
   "execution_count": 32,
   "id": "7ae7431f",
   "metadata": {},
   "outputs": [
    {
     "name": "stdout",
     "output_type": "stream",
     "text": [
      "Vocabulário: \n",
      "['14' '18' '1879' '1905' '1916' '1917' '1921' '1933' '1940' '1955' 'abril'\n",
      " 'academia' 'acadêmicos' 'acumulava' 'afiliado' 'ainda' 'ajudou' 'albert'\n",
      " 'alemanha' 'alemães' 'alemão' 'alertar' 'aliadas' 'americanos' 'anos'\n",
      " 'ao' 'aos' 'aplicou' 'apoiou' 'após' 'arma' 'armas' 'artigo' 'artigos'\n",
      " 'as' 'assinou' 'até' 'atômica' 'autoridades' 'avançados' 'bases' 'berlim'\n",
      " 'bertrand' 'britânico' 'browniano' 'campos' 'cargo' 'cargos'\n",
      " 'celebridade' 'chamada' 'chefes' 'chegou' 'ciências' 'com' 'começar'\n",
      " 'como' 'conhecido' 'continuou' 'contribuições' 'convidado' 'curso' 'da'\n",
      " 'das' 'de' 'delano' 'denunciando' 'descoberta' 'desenvolvendo'\n",
      " 'desenvolveu' 'desenvolvimento' 'destacou' 'do' 'dois' 'dos' 'doutorado'\n",
      " 'efeito' 'einstein' 'em' 'embora' 'emprego' 'energia' 'enquanto'\n",
      " 'entanto' 'então' 'equação' 'equivalência' 'era' 'escola' 'escritório'\n",
      " 'especial' 'especialmente' 'estabeleceu' 'estabelecimento' 'estado'\n",
      " 'estados' 'estar' 'estatística' 'estava' 'estendido' 'estrutura'\n",
      " 'estudos' 'explicações' 'famosa' 'família' 'figura' 'filósofo' 'fissão'\n",
      " 'foi' 'forças' 'fotoelétrico' 'franklin' 'fundamental' 'física' 'físico'\n",
      " 'fórmula' 'fótons' 'geral' 'gravitacionais' 'gravitação' 'guerra'\n",
      " 'história' 'humanidade' 'ingressava' 'iniciou' 'instituições' 'instituto'\n",
      " 'internacionais' 'investigou' 'jovem' 'judeus' 'lado' 'lançou' 'laureado'\n",
      " 'lei' 'levou' 'lhe' 'lidar' 'luz' 'mais' 'manhattan' 'manifesto' 'março'\n",
      " 'massa' 'mc²' 'mecânica' 'modelar' 'moderna' 'morte' 'movimento' 'mudou'\n",
      " 'mundial' 'mundo' 'na' 'nascido' 'naturalizou' 'nazista' 'no' 'nobel'\n",
      " 'norte' 'nos' 'nova' 'nuclear' 'nucleares' 'não' 'obras' 'obteve' 'onde'\n",
      " 'origem' 'para' 'partido' 'partículas' 'patentes' 'país' 'percebeu'\n",
      " 'perigo' 'pesquisa' 'pilares' 'poder' 'poderia' 'politécnica' 'por'\n",
      " 'posterior' 'presidente' 'princeton' 'princípio' 'problemas' 'procurando'\n",
      " 'professor' 'projeto' 'propriedades' 'prêmio' 'prêmios' 'publicou'\n",
      " 'quando' 'que' 'quântica' 'recebendo' 'recomendando' 'relatividade'\n",
      " 'renderam' 'revolucionários' 'roosevelt' 'russell' 'se' 'segunda'\n",
      " 'semelhante' 'sendo' 'ser' 'seu' 'seus' 'sido' 'sobre' 'status' 'sua'\n",
      " 'suas' 'suíça' 'suíço' 'série' 'também' 'tarde' 'teoria' 'teórica'\n",
      " 'teórico' 'tinha' 'todo' 'tornaria' 'tornava' 'trabalhou' 'térmicas'\n",
      " 'ulm' 'um' 'uma' 'unidos' 'universidade' 'universidades' 'universo'\n",
      " 'utilização' 'voltou' 'véspera' 'zurique' 'às']\n",
      "\n",
      "Documento 1: \n",
      " Albert Einstein (Ulm, 14 de março de 1879 – Princeton, 18 de abril de 1955) foi um físico teórico alemão que desenvolveu a teoria da relatividade geral, um dos pilares da física moderna ao lado da mecânica quântica. Embora mais conhecido por sua fórmula de equivalência massa-energia, E = mc² — que foi chamada de \"a equação mais famosa do mundo\" —, foi laureado com o Prêmio Nobel de Física de 1921 \"por suas contribuições à física teórica\" e, especialmente, por sua descoberta da lei do efeito fotoelétrico, que foi fundamental no estabelecimento da teoria quântica.\n",
      "\n",
      "Vetor BoW: \n",
      " [[1 1 1 0 0 0 1 0 0 1 1 0 0 0 0 0 0 1 0 0 1 0 0 0 0 1 0 0 0 0 0 0 0 0 0 0\n",
      "  0 0 0 0 0 0 0 0 0 0 0 0 0 1 0 0 0 1 0 0 1 0 1 0 0 5 0 8 0 0 1 0 1 0 0 2\n",
      "  0 1 0 1 1 0 1 0 1 0 0 0 1 1 0 0 0 0 1 0 1 0 0 0 0 0 0 0 0 0 1 0 0 0 0 4\n",
      "  0 1 0 1 3 1 1 0 1 0 0 0 0 0 0 0 0 0 0 0 0 0 1 0 1 1 0 0 0 0 2 0 0 1 1 1\n",
      "  1 0 1 0 0 0 0 1 0 0 0 0 1 1 0 0 0 0 0 0 0 0 0 0 0 0 0 0 0 0 0 0 1 0 0 0\n",
      "  3 0 0 1 0 0 0 0 0 0 1 0 0 0 3 2 0 0 1 0 0 0 0 0 0 0 0 0 0 0 0 0 0 2 1 0\n",
      "  0 0 0 0 2 1 1 0 0 0 0 0 0 1 2 0 0 0 0 0 0 0 0 0 0]]\n",
      "\n",
      "Documento 2: \n",
      " Nascido em uma família de judeus alemães, mudou-se para a Suíça ainda jovem e iniciou seus estudos na Escola Politécnica de Zurique. Após dois anos procurando emprego, obteve um cargo no escritório de patentes suíço enquanto ingressava no curso de doutorado da Universidade de Zurique. Em 1905, publicou uma série de artigos acadêmicos revolucionários. Uma de suas obras era o desenvolvimento da teoria da relatividade especial. Percebeu, no entanto, que o princípio da relatividade também poderia ser estendido para campos gravitacionais, e com a sua posterior teoria da gravitação, de 1916, publicou um artigo sobre a teoria da relatividade geral. Enquanto acumulava cargos em universidades e instituições, continuou a lidar com problemas da mecânica estatística e teoria quântica, o que levou às suas explicações sobre a teoria das partículas e o movimento browniano. Também investigou as propriedades térmicas da luz, o que lançou as bases da teoria dos fótons. Em 1917, aplicou a teoria da relatividade geral para modelar a estrutura do universo como um todo. Suas obras renderam-lhe o status de celebridade mundial enquanto tornava-se uma nova figura na história da humanidade, recebendo prêmios internacionais e sendo convidado de chefes de estado e autoridades.\n",
      "\n",
      "Vetor BoW: \n",
      " [[ 0  0  0  1  1  1  0  0  0  0  0  0  1  1  0  1  0  0  0  1  0  0  0  0\n",
      "   1  0  0  1  0  1  0  0  1  1  2  0  0  0  1  0  1  0  0  0  1  1  1  1\n",
      "   1  0  1  0  0  2  0  1  0  1  0  1  1 11  1 11  0  0  0  0  0  1  0  1\n",
      "   1  1  1  0  0  4  0  1  0  3  1  0  0  0  1  1  1  1  0  0  0  1  0  0\n",
      "   1  0  1  1  1  1  0  1  1  0  0  0  0  0  0  0  0  0  0  1  2  1  1  0\n",
      "   1  1  1  1  1  0  1  1  1  1  0  1  0  0  1  1  1  1  0  0  0  0  0  0\n",
      "   1  1  0  0  1  1  1  0  2  1  0  0  3  0  0  0  1  0  0  0  2  1  0  0\n",
      "   3  0  1  1  0  1  0  0  0  0  1  1  0  1  0  0  1  1  1  0  0  1  0  1\n",
      "   2  0  3  1  1  0  4  1  1  0  0  2  0  0  1  1  0  1  0  2  1  1  3  1\n",
      "   1  1  2  0  7  0  0  0  1  0  1  0  1  0  3  4  0  1  1  1  0  0  0  2\n",
      "   1]]\n",
      "\n",
      "Documento 3: \n",
      " Estava nos Estados Unidos quando o Partido Nazista chegou ao poder na Alemanha, em 1933, e não voltou para o seu país de origem, onde tinha sido professor da Academia de Ciências de Berlim. Estabeleceu-se então no país, onde naturalizou-se em 1940. Na véspera da Segunda Guerra Mundial, ajudou a alertar o presidente Franklin Delano Roosevelt que a Alemanha poderia estar desenvolvendo uma arma atômica, recomendando aos norte-americanos a começar uma pesquisa semelhante, o que levou ao que se tornaria o Projeto Manhattan. Apoiou as forças aliadas, denunciando no entanto a utilização da fissão nuclear como uma arma. Mais tarde, com o filósofo britânico Bertrand Russell, assinou o Manifesto Russell-Einstein, que destacou o perigo das armas nucleares. Foi afiliado ao Instituto de Estudos Avançados de Princeton, onde trabalhou até sua morte em 1955.\n",
      "\n",
      "Vetor BoW: \n",
      " [[0 0 0 0 0 0 0 1 1 1 0 1 0 0 1 0 1 0 2 0 0 1 1 1 0 3 1 0 1 0 2 1 0 0 1 1\n",
      "  1 1 0 1 0 1 1 1 0 0 0 0 0 0 0 1 1 1 1 1 0 0 0 0 0 3 1 5 1 1 0 1 0 0 1 0\n",
      "  0 0 0 0 1 3 0 0 0 0 1 1 0 0 0 0 0 0 0 1 0 0 1 1 0 1 0 0 1 0 0 0 0 1 1 1\n",
      "  1 0 1 0 0 0 0 0 0 0 0 1 0 0 0 0 0 1 0 0 0 0 0 0 0 0 1 0 0 0 1 1 1 0 0 0\n",
      "  0 0 0 1 0 0 1 0 2 0 1 1 2 0 1 1 0 1 1 1 0 0 3 1 1 1 0 0 2 0 1 1 0 1 1 0\n",
      "  0 0 1 1 0 0 0 1 1 0 0 0 0 1 4 0 0 1 0 0 0 1 2 3 1 1 0 0 1 0 1 0 0 1 0 0\n",
      "  0 0 0 1 0 0 0 1 0 1 0 1 0 0 0 3 1 0 0 0 1 1 1 0 0]]\n",
      "\n"
     ]
    }
   ],
   "source": [
    "from sklearn.feature_extraction.text import CountVectorizer\n",
    "\n",
    "# Documentos de exemplo\n",
    "documents = [\n",
    "    'Albert Einstein (Ulm, 14 de março de 1879 – Princeton, 18 de abril de 1955) foi um físico teórico alemão que desenvolveu a teoria da relatividade geral, um dos pilares da física moderna ao lado da mecânica quântica. Embora mais conhecido por sua fórmula de equivalência massa-energia, E = mc² — que foi chamada de \"a equação mais famosa do mundo\" —, foi laureado com o Prêmio Nobel de Física de 1921 \"por suas contribuições à física teórica\" e, especialmente, por sua descoberta da lei do efeito fotoelétrico, que foi fundamental no estabelecimento da teoria quântica.',\n",
    "    \"Nascido em uma família de judeus alemães, mudou-se para a Suíça ainda jovem e iniciou seus estudos na Escola Politécnica de Zurique. Após dois anos procurando emprego, obteve um cargo no escritório de patentes suíço enquanto ingressava no curso de doutorado da Universidade de Zurique. Em 1905, publicou uma série de artigos acadêmicos revolucionários. Uma de suas obras era o desenvolvimento da teoria da relatividade especial. Percebeu, no entanto, que o princípio da relatividade também poderia ser estendido para campos gravitacionais, e com a sua posterior teoria da gravitação, de 1916, publicou um artigo sobre a teoria da relatividade geral. Enquanto acumulava cargos em universidades e instituições, continuou a lidar com problemas da mecânica estatística e teoria quântica, o que levou às suas explicações sobre a teoria das partículas e o movimento browniano. Também investigou as propriedades térmicas da luz, o que lançou as bases da teoria dos fótons. Em 1917, aplicou a teoria da relatividade geral para modelar a estrutura do universo como um todo. Suas obras renderam-lhe o status de celebridade mundial enquanto tornava-se uma nova figura na história da humanidade, recebendo prêmios internacionais e sendo convidado de chefes de estado e autoridades.\",\n",
    "    \"Estava nos Estados Unidos quando o Partido Nazista chegou ao poder na Alemanha, em 1933, e não voltou para o seu país de origem, onde tinha sido professor da Academia de Ciências de Berlim. Estabeleceu-se então no país, onde naturalizou-se em 1940. Na véspera da Segunda Guerra Mundial, ajudou a alertar o presidente Franklin Delano Roosevelt que a Alemanha poderia estar desenvolvendo uma arma atômica, recomendando aos norte-americanos a começar uma pesquisa semelhante, o que levou ao que se tornaria o Projeto Manhattan. Apoiou as forças aliadas, denunciando no entanto a utilização da fissão nuclear como uma arma. Mais tarde, com o filósofo britânico Bertrand Russell, assinou o Manifesto Russell-Einstein, que destacou o perigo das armas nucleares. Foi afiliado ao Instituto de Estudos Avançados de Princeton, onde trabalhou até sua morte em 1955.\"\n",
    "]\n",
    "\n",
    "# Cria uma instância do CountVectorizer\n",
    "vectorizer = CountVectorizer()\n",
    "\n",
    "# Ajusta o vetorizador aos documentos e transformá-los em vetores BoW\n",
    "bow_vectors = vectorizer.fit_transform(documents)\n",
    "\n",
    "# Obtém o vocabulário\n",
    "vocab = vectorizer.get_feature_names_out()\n",
    "\n",
    "print('Vocabulário: ')\n",
    "print(vocab)\n",
    "print()\n",
    "\n",
    "# Imprime a representação BoW para cada documento\n",
    "for i, document in enumerate(documents):\n",
    "    print(f\"Documento {i+1}: \\n {document}\")\n",
    "    print(f\"\\nVetor BoW: \\n {bow_vectors[i].toarray()}\")\n",
    "    print()"
   ]
  },
  {
   "cell_type": "markdown",
   "id": "f3cd8326",
   "metadata": {},
   "source": [
    "Neste exemplo, utilizamos a classe <code>CountVectorizer</code> da biblioteca <code>sklearn</code> para construir a representação BoW dos documentos. A função <code>fit_transform()</code> ajusta o vetorizador aos documentos e retorna uma matriz esparsa de vetores BoW. Em seguida, podemos obter o vocabulário usando o método <code>get_feature_names_out()</code>.\n",
    "\n",
    "Cada linha dos vetores BoW representa um documento, e cada coluna representa uma palavra do vocabulário. O valor em cada posição indica a frequência da palavra correspondente no documento."
   ]
  },
  {
   "cell_type": "markdown",
   "id": "5cf6e56f",
   "metadata": {},
   "source": [
    "#### TF-IDF (Term Frequency-Inverse Document Frequency)\n",
    "\n",
    "TF-IDF (Term Frequency-Inverse Document Frequency) é uma técnica comumente utilizada na representação de texto que visa capturar a importância relativa de uma palavra em um documento dentro de um conjunto de documentos. Ele combina duas medidas: frequência do termo (TF) e frequência inversa do documento (IDF).\n",
    "\n",
    "A medida TF calcula a frequência de ocorrência de um termo em um documento específico. Ela indica o quão importante é um termo dentro do documento. A medida IDF, por sua vez, calcula a raridade de um termo em todo o conjunto de documentos. Ela indica o quão discriminativo é um termo em relação aos demais documentos.\n",
    "\n",
    "A fórmula do Term Frequency (TF) e do Inverse Document Frequency (IDF) são as seguintes:\n",
    "\n",
    "- Term Frequency (TF):\n",
    "\n",
    "O Term Frequency (TF) mede a frequência de um termo em um documento específico. Existem várias formas de calcular o TF, sendo a mais comum a frequência bruta (Raw Frequency) e a frequência normalizada (Normalized Frequency). A fórmula para o cálculo da frequência bruta é:\n",
    "\n",
    "- TF(termo, documento) = Contagem do termo no documento\n",
    "\n",
    "\n",
    "- A fórmula para o cálculo da frequência normalizada (TF-N) é:\n",
    "\n",
    "    - TF-N(termo, documento) = (Contagem do termo no documento) / (Total de termos no documento)\n",
    "\n",
    "A escolha entre usar a frequência bruta ou a frequência normalizada depende do contexto e da preferência do usuário.\n",
    "\n",
    "- Inverse Document Frequency (IDF):\n",
    "\n",
    "O Inverse Document Frequency (IDF) mede a raridade de um termo em todo o conjunto de documentos. Ele é calculado como o logaritmo do inverso da proporção de documentos que contêm o termo. A fórmula para o cálculo do IDF é:\n",
    "\n",
    "- IDF(termo) = log((Total de documentos) / (Número de documentos que contêm o termo))\n",
    "\n",
    "O IDF atribui um peso maior a termos raros, pois eles são considerados mais informativos e discriminativos.\n",
    "\n",
    "Existem variações e ajustes nas fórmulas do TF e IDF, dependendo do contexto e dos requisitos específicos de cada problema. As fórmulas mencionadas acima são as formas básicas e amplamente utilizadas para o cálculo do TF e IDF.\n",
    "\n",
    "A fórmula para calcular o TF-IDF de um termo em um documento é dada por:\n",
    "\n",
    "- TF-IDF(termo, documento) = TF(termo, documento) * IDF(termo)\n",
    "\n",
    "A seguir um exemplo de como calcular o TF-IDF usando a biblioteca sklearn em Python:"
   ]
  },
  {
   "cell_type": "code",
   "execution_count": 41,
   "id": "8ba792b9",
   "metadata": {
    "scrolled": false
   },
   "outputs": [
    {
     "name": "stdout",
     "output_type": "stream",
     "text": [
      "Documento\n",
      " 1: Albert Einstein (Ulm, 14 de março de 1879 – Princeton, 18 de abril de 1955) foi um físico teórico alemão que desenvolveu a teoria da relatividade geral, um dos pilares da física moderna ao lado da mecânica quântica. Embora mais conhecido por sua fórmula de equivalência massa-energia, E = mc² — que foi chamada de \"a equação mais famosa do mundo\" —, foi laureado com o Prêmio Nobel de Física de 1921 \"por suas contribuições à física teórica\" e, especialmente, por sua descoberta da lei do efeito fotoelétrico, que foi fundamental no estabelecimento da teoria quântica.\n",
      "\n",
      "Vetor TF-IDF:\n",
      " [[0.09193832 0.09193832 0.09193832 0.         0.         0.\n",
      "  0.09193832 0.         0.         0.06992146 0.09193832 0.\n",
      "  0.         0.         0.         0.         0.         0.09193832\n",
      "  0.         0.         0.09193832 0.         0.         0.\n",
      "  0.         0.06992146 0.         0.         0.         0.\n",
      "  0.         0.         0.         0.         0.         0.\n",
      "  0.         0.         0.         0.         0.         0.\n",
      "  0.         0.         0.         0.         0.         0.\n",
      "  0.         0.09193832 0.         0.         0.         0.05430025\n",
      "  0.         0.         0.09193832 0.         0.09193832 0.\n",
      "  0.         0.27150127 0.         0.43440203 0.         0.\n",
      "  0.09193832 0.         0.09193832 0.         0.         0.13984293\n",
      "  0.         0.06992146 0.         0.09193832 0.06992146 0.\n",
      "  0.09193832 0.         0.09193832 0.         0.         0.\n",
      "  0.09193832 0.09193832 0.         0.         0.         0.\n",
      "  0.09193832 0.         0.09193832 0.         0.         0.\n",
      "  0.         0.         0.         0.         0.         0.\n",
      "  0.09193832 0.         0.         0.         0.         0.27968585\n",
      "  0.         0.09193832 0.         0.09193832 0.27581496 0.09193832\n",
      "  0.09193832 0.         0.06992146 0.         0.         0.\n",
      "  0.         0.         0.         0.         0.         0.\n",
      "  0.         0.         0.         0.         0.09193832 0.\n",
      "  0.09193832 0.09193832 0.         0.         0.         0.\n",
      "  0.13984293 0.         0.         0.09193832 0.09193832 0.09193832\n",
      "  0.06992146 0.         0.09193832 0.         0.         0.\n",
      "  0.         0.09193832 0.         0.         0.         0.\n",
      "  0.05430025 0.09193832 0.         0.         0.         0.\n",
      "  0.         0.         0.         0.         0.         0.\n",
      "  0.         0.         0.         0.         0.         0.\n",
      "  0.         0.         0.09193832 0.         0.         0.\n",
      "  0.27581496 0.         0.         0.06992146 0.         0.\n",
      "  0.         0.         0.         0.         0.09193832 0.\n",
      "  0.         0.         0.16290076 0.13984293 0.         0.\n",
      "  0.06992146 0.         0.         0.         0.         0.\n",
      "  0.         0.         0.         0.         0.         0.\n",
      "  0.         0.         0.         0.10860051 0.06992146 0.\n",
      "  0.         0.         0.         0.         0.13984293 0.09193832\n",
      "  0.09193832 0.         0.         0.         0.         0.\n",
      "  0.         0.09193832 0.13984293 0.         0.         0.\n",
      "  0.         0.         0.         0.         0.         0.\n",
      "  0.        ]]\n",
      "\n",
      "Documento\n",
      " 2: Nascido em uma família de judeus alemães, mudou-se para a Suíça ainda jovem e iniciou seus estudos na Escola Politécnica de Zurique. Após dois anos procurando emprego, obteve um cargo no escritório de patentes suíço enquanto ingressava no curso de doutorado da Universidade de Zurique. Em 1905, publicou uma série de artigos acadêmicos revolucionários. Uma de suas obras era o desenvolvimento da teoria da relatividade especial. Percebeu, no entanto, que o princípio da relatividade também poderia ser estendido para campos gravitacionais, e com a sua posterior teoria da gravitação, de 1916, publicou um artigo sobre a teoria da relatividade geral. Enquanto acumulava cargos em universidades e instituições, continuou a lidar com problemas da mecânica estatística e teoria quântica, o que levou às suas explicações sobre a teoria das partículas e o movimento browniano. Também investigou as propriedades térmicas da luz, o que lançou as bases da teoria dos fótons. Em 1917, aplicou a teoria da relatividade geral para modelar a estrutura do universo como um todo. Suas obras renderam-lhe o status de celebridade mundial enquanto tornava-se uma nova figura na história da humanidade, recebendo prêmios internacionais e sendo convidado de chefes de estado e autoridades.\n",
      "\n",
      "Vetor TF-IDF:\n",
      " [[0.         0.         0.         0.05814567 0.05814567 0.05814567\n",
      "  0.         0.         0.         0.         0.         0.\n",
      "  0.05814567 0.05814567 0.         0.05814567 0.         0.\n",
      "  0.         0.05814567 0.         0.         0.         0.\n",
      "  0.05814567 0.         0.         0.05814567 0.         0.05814567\n",
      "  0.         0.         0.05814567 0.05814567 0.08844256 0.\n",
      "  0.         0.         0.05814567 0.         0.05814567 0.\n",
      "  0.         0.         0.05814567 0.05814567 0.05814567 0.05814567\n",
      "  0.05814567 0.         0.05814567 0.         0.         0.06868354\n",
      "  0.         0.04422128 0.         0.05814567 0.         0.05814567\n",
      "  0.05814567 0.37775946 0.04422128 0.37775946 0.         0.\n",
      "  0.         0.         0.         0.05814567 0.         0.04422128\n",
      "  0.05814567 0.04422128 0.05814567 0.         0.         0.17688512\n",
      "  0.         0.05814567 0.         0.17443701 0.04422128 0.\n",
      "  0.         0.         0.05814567 0.05814567 0.05814567 0.05814567\n",
      "  0.         0.         0.         0.05814567 0.         0.\n",
      "  0.05814567 0.         0.05814567 0.05814567 0.04422128 0.05814567\n",
      "  0.         0.05814567 0.05814567 0.         0.         0.\n",
      "  0.         0.         0.         0.         0.         0.\n",
      "  0.         0.05814567 0.08844256 0.05814567 0.05814567 0.\n",
      "  0.05814567 0.05814567 0.05814567 0.05814567 0.05814567 0.\n",
      "  0.05814567 0.05814567 0.05814567 0.05814567 0.         0.05814567\n",
      "  0.         0.         0.04422128 0.05814567 0.05814567 0.05814567\n",
      "  0.         0.         0.         0.         0.         0.\n",
      "  0.04422128 0.05814567 0.         0.         0.05814567 0.05814567\n",
      "  0.04422128 0.         0.08844256 0.05814567 0.         0.\n",
      "  0.10302531 0.         0.         0.         0.05814567 0.\n",
      "  0.         0.         0.11629134 0.05814567 0.         0.\n",
      "  0.13266384 0.         0.05814567 0.05814567 0.         0.05814567\n",
      "  0.         0.         0.         0.         0.04422128 0.05814567\n",
      "  0.         0.05814567 0.         0.         0.05814567 0.05814567\n",
      "  0.05814567 0.         0.         0.05814567 0.         0.05814567\n",
      "  0.11629134 0.         0.10302531 0.04422128 0.05814567 0.\n",
      "  0.17688512 0.05814567 0.05814567 0.         0.         0.08844256\n",
      "  0.         0.         0.05814567 0.05814567 0.         0.05814567\n",
      "  0.         0.11629134 0.05814567 0.03434177 0.13266384 0.05814567\n",
      "  0.05814567 0.05814567 0.11629134 0.         0.30954896 0.\n",
      "  0.         0.         0.05814567 0.         0.05814567 0.\n",
      "  0.05814567 0.         0.13266384 0.17688512 0.         0.05814567\n",
      "  0.05814567 0.05814567 0.         0.         0.         0.11629134\n",
      "  0.05814567]]\n",
      "\n",
      "Documento\n",
      " 3: Estava nos Estados Unidos quando o Partido Nazista chegou ao poder na Alemanha, em 1933, e não voltou para o seu país de origem, onde tinha sido professor da Academia de Ciências de Berlim. Estabeleceu-se então no país, onde naturalizou-se em 1940. Na véspera da Segunda Guerra Mundial, ajudou a alertar o presidente Franklin Delano Roosevelt que a Alemanha poderia estar desenvolvendo uma arma atômica, recomendando aos norte-americanos a começar uma pesquisa semelhante, o que levou ao que se tornaria o Projeto Manhattan. Apoiou as forças aliadas, denunciando no entanto a utilização da fissão nuclear como uma arma. Mais tarde, com o filósofo britânico Bertrand Russell, assinou o Manifesto Russell-Einstein, que destacou o perigo das armas nucleares. Foi afiliado ao Instituto de Estudos Avançados de Princeton, onde trabalhou até sua morte em 1955.\n",
      "\n",
      "Vetor TF-IDF:\n",
      " [[0.         0.         0.         0.         0.         0.\n",
      "  0.         0.08311202 0.08311202 0.06320884 0.         0.08311202\n",
      "  0.         0.         0.08311202 0.         0.08311202 0.\n",
      "  0.16622405 0.         0.         0.08311202 0.08311202 0.08311202\n",
      "  0.         0.18962651 0.08311202 0.         0.08311202 0.\n",
      "  0.16622405 0.08311202 0.         0.         0.06320884 0.08311202\n",
      "  0.08311202 0.08311202 0.         0.08311202 0.         0.08311202\n",
      "  0.08311202 0.08311202 0.         0.         0.         0.\n",
      "  0.         0.         0.         0.08311202 0.08311202 0.0490873\n",
      "  0.08311202 0.06320884 0.         0.         0.         0.\n",
      "  0.         0.1472619  0.06320884 0.2454365  0.08311202 0.08311202\n",
      "  0.         0.08311202 0.         0.         0.08311202 0.\n",
      "  0.         0.         0.         0.         0.06320884 0.18962651\n",
      "  0.         0.         0.         0.         0.06320884 0.08311202\n",
      "  0.         0.         0.         0.         0.         0.\n",
      "  0.         0.08311202 0.         0.         0.08311202 0.08311202\n",
      "  0.         0.08311202 0.         0.         0.06320884 0.\n",
      "  0.         0.         0.         0.08311202 0.08311202 0.06320884\n",
      "  0.08311202 0.         0.08311202 0.         0.         0.\n",
      "  0.         0.         0.         0.         0.         0.08311202\n",
      "  0.         0.         0.         0.         0.         0.08311202\n",
      "  0.         0.         0.         0.         0.         0.\n",
      "  0.         0.         0.06320884 0.         0.         0.\n",
      "  0.06320884 0.08311202 0.08311202 0.         0.         0.\n",
      "  0.         0.         0.         0.08311202 0.         0.\n",
      "  0.06320884 0.         0.12641767 0.         0.08311202 0.08311202\n",
      "  0.0981746  0.         0.08311202 0.08311202 0.         0.08311202\n",
      "  0.08311202 0.08311202 0.         0.         0.24933607 0.08311202\n",
      "  0.06320884 0.08311202 0.         0.         0.16622405 0.\n",
      "  0.08311202 0.08311202 0.         0.08311202 0.06320884 0.\n",
      "  0.         0.         0.08311202 0.06320884 0.         0.\n",
      "  0.         0.08311202 0.08311202 0.         0.         0.\n",
      "  0.         0.08311202 0.1963492  0.         0.         0.08311202\n",
      "  0.         0.         0.         0.08311202 0.16622405 0.18962651\n",
      "  0.08311202 0.08311202 0.         0.         0.08311202 0.\n",
      "  0.08311202 0.         0.         0.0490873  0.         0.\n",
      "  0.         0.         0.         0.08311202 0.         0.\n",
      "  0.         0.08311202 0.         0.08311202 0.         0.08311202\n",
      "  0.         0.         0.         0.18962651 0.08311202 0.\n",
      "  0.         0.         0.08311202 0.08311202 0.08311202 0.\n",
      "  0.        ]]\n",
      "\n"
     ]
    }
   ],
   "source": [
    "from sklearn.feature_extraction.text import TfidfVectorizer\n",
    "\n",
    "# Documentos de exemplo\n",
    "documents = [\n",
    "    'Albert Einstein (Ulm, 14 de março de 1879 – Princeton, 18 de abril de 1955) foi um físico teórico alemão que desenvolveu a teoria da relatividade geral, um dos pilares da física moderna ao lado da mecânica quântica. Embora mais conhecido por sua fórmula de equivalência massa-energia, E = mc² — que foi chamada de \"a equação mais famosa do mundo\" —, foi laureado com o Prêmio Nobel de Física de 1921 \"por suas contribuições à física teórica\" e, especialmente, por sua descoberta da lei do efeito fotoelétrico, que foi fundamental no estabelecimento da teoria quântica.',\n",
    "    \"Nascido em uma família de judeus alemães, mudou-se para a Suíça ainda jovem e iniciou seus estudos na Escola Politécnica de Zurique. Após dois anos procurando emprego, obteve um cargo no escritório de patentes suíço enquanto ingressava no curso de doutorado da Universidade de Zurique. Em 1905, publicou uma série de artigos acadêmicos revolucionários. Uma de suas obras era o desenvolvimento da teoria da relatividade especial. Percebeu, no entanto, que o princípio da relatividade também poderia ser estendido para campos gravitacionais, e com a sua posterior teoria da gravitação, de 1916, publicou um artigo sobre a teoria da relatividade geral. Enquanto acumulava cargos em universidades e instituições, continuou a lidar com problemas da mecânica estatística e teoria quântica, o que levou às suas explicações sobre a teoria das partículas e o movimento browniano. Também investigou as propriedades térmicas da luz, o que lançou as bases da teoria dos fótons. Em 1917, aplicou a teoria da relatividade geral para modelar a estrutura do universo como um todo. Suas obras renderam-lhe o status de celebridade mundial enquanto tornava-se uma nova figura na história da humanidade, recebendo prêmios internacionais e sendo convidado de chefes de estado e autoridades.\",\n",
    "    \"Estava nos Estados Unidos quando o Partido Nazista chegou ao poder na Alemanha, em 1933, e não voltou para o seu país de origem, onde tinha sido professor da Academia de Ciências de Berlim. Estabeleceu-se então no país, onde naturalizou-se em 1940. Na véspera da Segunda Guerra Mundial, ajudou a alertar o presidente Franklin Delano Roosevelt que a Alemanha poderia estar desenvolvendo uma arma atômica, recomendando aos norte-americanos a começar uma pesquisa semelhante, o que levou ao que se tornaria o Projeto Manhattan. Apoiou as forças aliadas, denunciando no entanto a utilização da fissão nuclear como uma arma. Mais tarde, com o filósofo britânico Bertrand Russell, assinou o Manifesto Russell-Einstein, que destacou o perigo das armas nucleares. Foi afiliado ao Instituto de Estudos Avançados de Princeton, onde trabalhou até sua morte em 1955.\"\n",
    "]\n",
    "\n",
    "# Cria uma instância do TfidfVectorizer\n",
    "vectorizer = TfidfVectorizer()\n",
    "\n",
    "# Ajusta o vetorizador aos documentos e transformá-los em vetores TF-IDF\n",
    "tfidf_vectors = vectorizer.fit_transform(documents)\n",
    "\n",
    "# Obtém o vocabulário\n",
    "vocab = vectorizer.get_feature_names()\n",
    "\n",
    "# Imprime a representação TF-IDF para cada documento\n",
    "for i, document in enumerate(documents):\n",
    "    print(f\"Documento\\n {i+1}: {document}\")\n",
    "    print(f\"\\nVetor TF-IDF:\\n {tfidf_vectors[i].toarray()}\")\n",
    "    print()"
   ]
  },
  {
   "cell_type": "markdown",
   "id": "39cb18f2",
   "metadata": {},
   "source": [
    "#### Word Embeddings\n",
    "\n",
    "Word Embeddings são uma abordagem avançada e poderosa na representação de texto na preparação de texto para treinamento de modelos de aprendizagem de máquina. Eles são representações numéricas de palavras que capturam informações semânticas e relacionais.\n",
    "\n",
    "A principal ideia por trás dos word embeddings é mapear palavras para vetores densos em um espaço vetorial contínuo, onde palavras semanticamente semelhantes têm vetores próximos uns dos outros. Essa representação densa permite que os modelos de aprendizagem de máquina capturem relações complexas entre palavras.\n",
    "\n",
    "Existem várias abordagens para a criação de word embeddings exemplos deles são:\n",
    "\n",
    "- Word2Vec: O Word2Vec é um algoritmo amplamente utilizado para aprender word embeddings. Ele treina redes neurais em grandes conjuntos de dados de texto e, com base nas relações contextuais das palavras, gera vetores de palavras densos. O Word2Vec possui duas variantes principais: o modelo Skip-gram e o modelo Continuous Bag-of-Words (CBOW).\n",
    "\n",
    "- GloVe: O GloVe (Global Vectors for Word Representation) é outro método popular para aprender word embeddings. Ele utiliza estatísticas de coocorrência de palavras em um grande corpus de texto para construir vetores que capturam a relação entre palavras. O GloVe oferece uma abordagem eficiente e escalável para gerar representações de palavras de alta qualidade.\n",
    "\n",
    "Os word embeddings são úteis em várias tarefas de processamento de texto, como classificação de sentimentos, tradução automática, análise de sentimento, recuperação de informações e muito mais. Eles ajudam a lidar com o desafio da dimensionalidade do espaço vetorial, capturando informações semânticas e relacionais que melhoram o desempenho dos modelos de aprendizagem de máquina.\n",
    "\n",
    "Na prática, você pode usar bibliotecas como o Gensim, o spaCy e o TensorFlow para treinar e usar word embeddings em seus modelos de aprendizagem de máquina. Essas bibliotecas fornecem funções e métodos convenientes para criar, carregar e usar word embeddings em seu código.\n",
    "\n",
    "No entanto, vale ressaltar que os word embeddings são treinados em grandes conjuntos de dados de texto e, portanto, podem não ser adequados para todos os casos de uso. É essencial considerar o tamanho e a qualidade dos dados disponíveis ao escolher e usar word embeddings em seus modelos."
   ]
  },
  {
   "cell_type": "code",
   "execution_count": 46,
   "id": "d8acd0a6",
   "metadata": {},
   "outputs": [
    {
     "name": "stdout",
     "output_type": "stream",
     "text": [
      "[[0.4047185]]\n"
     ]
    }
   ],
   "source": [
    "import numpy as np\n",
    "from sklearn.metrics.pairwise import cosine_similarity\n",
    "\n",
    "# Vetores de exemplo\n",
    "vector1 = np.array([1, 2, 3])\n",
    "vector2 = np.array([4, 5, 6])\n",
    "\n",
    "# Calcula a similaridade do cosseno\n",
    "similarity = cosine_similarity(tfidf_vectors[0].toarray().reshape(1, -1), tfidf_vectors[1].toarray().reshape(1, -1))\n",
    "\n",
    "# Imprime a similaridade\n",
    "print(similarity)"
   ]
  },
  {
   "cell_type": "markdown",
   "id": "cc3771ef",
   "metadata": {},
   "source": [
    "##### Word2Vec\n",
    "\n",
    "Word2Vec é um algoritmo amplamente utilizado para aprender word embeddings, que são representações vetoriais de palavras em um espaço vetorial contínuo. Ele captura relações semânticas e relacionais entre palavras com base no contexto em que elas aparecem.\n",
    "\n",
    "A abordagem do Word2Vec envolve treinar uma rede neural em um grande conjunto de dados de texto, onde o objetivo é prever a palavra alvo com base em seu contexto (palavras vizinhas). O algoritmo é treinado usando o método Skip-gram ou o método Continuous Bag-of-Words (CBOW).\n",
    "\n"
   ]
  },
  {
   "cell_type": "markdown",
   "id": "7c34396e",
   "metadata": {},
   "source": [
    "Para demonstração do aprendizado de um modelo de word embbedings utilizou-se a função de pré-processamento de texto a seguir e também utilizaremos o corpus disponível no endereço: https://github.com/gazzola/corpus_readability_nlp_portuguese."
   ]
  },
  {
   "cell_type": "code",
   "execution_count": 55,
   "id": "678e7cc8",
   "metadata": {},
   "outputs": [
    {
     "name": "stdout",
     "output_type": "stream",
     "text": [
      "2076\n"
     ]
    }
   ],
   "source": [
    "import os\n",
    "\n",
    "#diretorios com os arquivos\n",
    "diretorios = [os.path.join('corpus_readability_nlp_portuguese-master', '1_Ensino_Fundamental_I'), \n",
    "              os.path.join('corpus_readability_nlp_portuguese-master', '2_Ensino_Fundamental_II'), \n",
    "              os.path.join('corpus_readability_nlp_portuguese-master', '3_Ensino_Medio'), \n",
    "              os.path.join('corpus_readability_nlp_portuguese-master', '4_Ensino_Superior')]\n",
    "\n",
    "textos = []\n",
    "\n",
    "#leitura arquivos presentes nos diretorios\n",
    "for diretorio in diretorios:\n",
    "    for arquivo in os.listdir(diretorio):\n",
    "        if arquivo.endswith('.txt'):\n",
    "            caminho_arquivo = os.path.join(diretorio, arquivo)\n",
    "            with open(caminho_arquivo, 'r', encoding='utf-8') as arquivo_txt:\n",
    "                texto = arquivo_txt.read()\n",
    "                textos.append(texto)\n",
    "                \n",
    "print(len(textos))"
   ]
  },
  {
   "cell_type": "code",
   "execution_count": 56,
   "id": "b9a30f7d",
   "metadata": {},
   "outputs": [
    {
     "name": "stderr",
     "output_type": "stream",
     "text": [
      "C:\\Users\\johnsan2\\Desktop\\DS_PYTHON\\workspace\\estudos\\venv\\lib\\site-packages\\tqdm\\auto.py:22: TqdmWarning: IProgress not found. Please update jupyter and ipywidgets. See https://ipywidgets.readthedocs.io/en/stable/user_install.html\n",
      "  from .autonotebook import tqdm as notebook_tqdm\n"
     ]
    }
   ],
   "source": [
    "import string\n",
    "import spacy\n",
    "import nltk\n",
    "from nltk.corpus import stopwords\n",
    "from nltk.tokenize import word_tokenize\n",
    "nlp = spacy.load('pt_core_news_sm')\n",
    "\n",
    "#realiza pré-processamento dos textos\n",
    "def tratar_texto(texto):\n",
    "\n",
    "    #remove pontuações\n",
    "    text_clean = texto\n",
    "    text_clean = text_clean.translate(str.maketrans(\"\", \"\", string.punctuation))\n",
    "    \n",
    "    #remove espaços extras\n",
    "    text_clean = ' '.join(text_clean.split())\n",
    "    \n",
    "    #transforma em minusculo\n",
    "    #remove stopwords\n",
    "    stop_words = set(stopwords.words('portuguese'))\n",
    "    tokens = word_tokenize(text_clean)\n",
    "    text_no_stopwords = [token.lower() for token in tokens if token.lower() not in stop_words]\n",
    "    text_clean = ' '.join(text_no_stopwords)\n",
    "\n",
    "    #lematiza\n",
    "    doc = nlp(text_clean)\n",
    "    text_clean = [token.lemma_ for token in doc]\n",
    "\n",
    "    return text_clean"
   ]
  },
  {
   "cell_type": "code",
   "execution_count": null,
   "id": "1337196f",
   "metadata": {
    "scrolled": true
   },
   "outputs": [],
   "source": [
    "#trata todos os textos\n",
    "for i, t in enumerate(textos):\n",
    "    print(i)\n",
    "    textos[i] = tratar_texto(t)"
   ]
  },
  {
   "cell_type": "code",
   "execution_count": null,
   "id": "ac97b6e1",
   "metadata": {},
   "outputs": [],
   "source": [
    "textos[2]"
   ]
  },
  {
   "cell_type": "markdown",
   "id": "e3a2bc82",
   "metadata": {},
   "source": [
    "A seguir um exemplo de como treinar e usar o Word2Vec usando a biblioteca Gensim em Python:"
   ]
  },
  {
   "cell_type": "code",
   "execution_count": 60,
   "id": "74478e18",
   "metadata": {},
   "outputs": [],
   "source": [
    "from gensim.models import Word2Vec\n",
    "\n",
    "# Treina o modelo Word2Vec\n",
    "model = Word2Vec(textos, min_count=1)"
   ]
  },
  {
   "cell_type": "code",
   "execution_count": 77,
   "id": "83778977",
   "metadata": {},
   "outputs": [
    {
     "name": "stdout",
     "output_type": "stream",
     "text": [
      "[-0.09501461  0.47518766 -0.01437831  0.19209659  0.09651536 -0.56404907\n",
      " -0.17628737  0.87498194  0.04015888 -0.25889716 -0.20550688 -0.6711192\n",
      "  0.04162331  0.12203677  0.34517252 -0.31392154  0.20982435 -0.77200395\n",
      " -0.29667404 -0.5930006  -0.02044235  0.07222618  0.21853927 -0.01912769\n",
      " -0.17866477 -0.301516    0.04976756  0.06159944 -0.6603457   0.17798652\n",
      "  0.36244613 -0.0087003   0.29341146 -0.59329057 -0.09883633 -0.07305593\n",
      "  0.11931157 -0.38893148  0.07986113  0.01025445  0.19679803 -0.2113925\n",
      "  0.03101177 -0.49126208  0.22232915 -0.24747284 -0.45628306  0.24852324\n",
      " -0.06843746  0.40374494 -0.10584044 -0.0669236  -0.33689255  0.33798307\n",
      "  0.11896707  0.4284754   0.66399807  0.2185241  -0.08901431  0.23291934\n",
      " -0.3364677   0.10672618 -0.2493264   0.3441954  -0.16754566  0.1530362\n",
      "  0.21157387  0.1667295  -0.28599116  0.52380776 -0.16073506 -0.02116504\n",
      "  0.29714966  0.00636465  0.11351888 -0.16256355 -0.2514217   0.03919014\n",
      " -0.31792176  0.41406748 -0.22763126 -0.1956045  -0.11087826  0.66085446\n",
      " -0.19630344  0.45898563 -0.21880151  0.38929787  0.2906285   0.0377905\n",
      "  0.3564547   0.02296671 -0.14007759  0.03183154  0.15461643  0.12143128\n",
      " -0.05940364 -0.4233452   0.04860838  0.22494747]\n",
      "['romano', 'acompanhar', 'curso', 'junto', 'introduzir', 'transformar', 'mestre', 'mãe', 'típico', 'montar']\n"
     ]
    }
   ],
   "source": [
    "# Obtém o vetor de uma palavra\n",
    "vector = model.wv['jogar']\n",
    "print(vector)\n",
    "# Encontrar palavras similares\n",
    "similar_words = model.wv.most_similar('céu')\n",
    "l = [r[0] for r in similar_words]\n",
    "print(l)"
   ]
  },
  {
   "cell_type": "markdown",
   "id": "33ca6563",
   "metadata": {},
   "source": [
    "No exemplo acima, foi utilizada a biblioteca Gensim para treinar o modelo Word2Vec obtendo os vetores de word embbeding . As sentenças de exemplo foram passadas para a função Word2Vec, juntamente com o parâmetro <code>min_count=1</code>, que especifica que todas as palavras devem ser consideradas, independentemente de sua frequência.\n",
    "\n",
    "Em seguida, podemos obter o vetor de uma palavra específica usando <code>model.wv['palavra']</code>, onde 'palavra' é a palavra de interesse. Isso nos dá um vetor denso que representa a palavra no espaço vetorial.\n",
    "\n",
    "Também podemos usar <code>model.wv.most_similar('palavra')</code> para encontrar palavras similares a uma palavra específica. Ele retorna as palavras mais próximas com base na similaridade de cosseno entre os vetores de palavras.\n",
    "\n",
    "O Word2Vec permite explorar relações semânticas entre palavras, como encontrar palavras sinônimas, analogias e relações implícitas. É um recurso poderoso para melhorar o desempenho de modelos de aprendizagem de máquina em tarefas de processamento de texto."
   ]
  },
  {
   "cell_type": "markdown",
   "id": "a0c9270c",
   "metadata": {},
   "source": [
    "##### GloVe\n",
    "\n",
    "GloVe (Global Vectors for Word Representation) é um método popular para aprender word embeddings, que são representações vetoriais de palavras em um espaço vetorial contínuo. O GloVe utiliza estatísticas de coocorrência de palavras em um grande corpus de texto para construir vetores que capturam as relações entre as palavras.\n",
    "\n",
    "A seguir um exemplo de como usar o GloVe em Python com a biblioteca gensim:"
   ]
  },
  {
   "cell_type": "code",
   "execution_count": 7,
   "id": "07edd78a",
   "metadata": {},
   "outputs": [],
   "source": [
    "import gensim.downloader as api\n",
    "\n",
    "#baixa o modelo GloVe: \"glove-wiki-gigaword-300\"\n",
    "glove_model = api.load(\"glove-wiki-gigaword-300\")"
   ]
  },
  {
   "cell_type": "code",
   "execution_count": 9,
   "id": "b41045c6",
   "metadata": {},
   "outputs": [
    {
     "name": "stdout",
     "output_type": "stream",
     "text": [
      "[ 0.17424   -0.14414   -0.25859    0.58766   -0.35713    0.22232\n",
      " -0.54324    0.29451   -0.5822     0.44723   -0.16427   -0.11976\n",
      "  0.068134  -0.25741    0.095769  -0.30835   -0.022946  -0.077258\n",
      "  0.26153    0.26314    0.56832   -0.18019    0.10773   -0.3268\n",
      "  0.33333    0.66096    0.24358   -0.19114    0.031271  -0.43021\n",
      "  0.21665   -0.37643    0.12432   -0.86763    0.46218    0.23843\n",
      " -0.23862   -0.24077    0.45572    0.041023  -0.16796   -0.12025\n",
      "  0.3956     0.33641   -0.2957    -0.094436   0.44196   -0.2892\n",
      "  0.39988    0.1608     0.013798   0.49871   -0.22476    0.053296\n",
      " -0.73259    0.40047   -0.34746   -0.4155    -0.18256    0.30605\n",
      " -0.18916   -0.32365    0.055179   0.80395    0.12012    0.25961\n",
      " -0.069131  -0.2097     0.31034    0.043253  -0.025061  -0.23514\n",
      "  0.74582   -0.046616  -0.39581    0.20825   -0.40626   -0.11532\n",
      "  0.056399  -0.25094   -0.25221    0.33594   -0.031046  -0.68971\n",
      " -0.22351   -0.79309    0.11136   -0.25871   -0.0056215 -0.025702\n",
      " -0.47311    0.31802    0.56746   -0.2787     0.014598  -0.52831\n",
      "  0.59723   -0.15593   -0.48185    0.40661   -0.15853   -0.58885\n",
      " -1.0764     0.11291   -0.65126   -0.15475   -0.70768    0.0957\n",
      "  0.4015    -0.42514   -0.057364   0.24704   -0.4447    -0.39684\n",
      " -0.45495   -0.51674   -0.097406  -0.39766    0.035559   0.63934\n",
      "  0.9294     0.41042   -0.11475    0.41132    0.5386    -0.06375\n",
      " -0.10598   -0.012039   0.27525   -0.42038    0.59865   -0.50367\n",
      " -0.09278   -0.17987    0.51855    0.05943   -0.65661    0.24437\n",
      " -0.4169     0.14131   -0.69239    0.26931    0.40338   -0.074974\n",
      "  0.21821   -0.53079    0.24254   -0.095807  -0.23085    0.052408\n",
      " -0.87126   -0.21182   -0.080601  -0.27495   -0.31109    0.13557\n",
      "  0.1145    -0.15508    0.63815   -0.23841   -0.0095833 -0.07508\n",
      "  0.44536   -0.16266    0.28883   -0.051653  -0.48397    0.14176\n",
      "  0.087211   0.078057  -0.28188    0.80328    0.29371   -0.23396\n",
      "  0.71392   -0.099797   0.099101   0.33351    0.46328   -0.38346\n",
      " -0.19307   -0.26286    0.50481   -0.17389   -0.47285    0.28336\n",
      "  0.44093   -0.13597   -0.0062338  0.0049201  0.11768   -0.17069\n",
      "  0.39726    0.13012    0.09762    0.60917   -0.53511    0.55682\n",
      " -0.19671   -0.034155  -0.22295    0.11991   -0.34562    0.34444\n",
      " -0.047177  -0.71605    0.91642    0.22912    0.41268   -0.62308\n",
      " -0.65045    0.34189   -0.39524    0.34823   -0.23256   -0.66465\n",
      "  0.036647  -0.27749   -0.53512   -0.53697   -0.26382   -0.37231\n",
      "  0.29338    0.13729   -0.26653   -0.42512   -0.73262    0.19985\n",
      "  0.35896   -0.054399   0.26833    0.58274    0.44636    0.26518\n",
      "  0.075938  -0.58227   -0.16896    0.63095   -0.28818   -0.15208\n",
      "  0.071632  -0.30179   -0.13374    0.32348    0.55808    0.41444\n",
      "  0.061766   0.39041    0.18319   -0.11109   -0.51395    0.29497\n",
      " -0.18966    0.34576   -0.50994    0.015577   0.05033    0.229\n",
      "  0.60856    0.18077    0.24665   -0.16483   -0.90883   -0.34577\n",
      " -0.5216     0.063504   0.17785   -0.14692   -0.10712   -0.58379\n",
      "  0.19131   -0.021927  -0.2657    -0.58248    0.13275   -0.29986\n",
      "  0.98879   -0.20512   -0.71565   -0.29814    0.23316    0.5188\n",
      " -0.52714    0.38187    0.087928   0.03245    0.30812   -0.19331\n",
      "  0.11604    0.1719    -0.092078   0.77577    0.21814   -0.081721\n",
      "  0.2071    -0.24631   -0.68016    0.08779    0.69784    0.01768  ]\n"
     ]
    }
   ],
   "source": [
    "vector = glove_model[\"céu\"]\n",
    "print(vector)"
   ]
  },
  {
   "cell_type": "markdown",
   "id": "daa68134",
   "metadata": {},
   "source": [
    "Neste exemplo, o modelo pré-treinado do GloVe é carregado usando o gensim com o comando api.load(). O modelo GloVe utilizado é \"glove-wiki-gigaword-300\", que possui vetores de dimensão 300 treinados em um grande corpus da Wikipédia.\n",
    "\n",
    "É possível acessar os vetores de palavras usando o modelo GloVe, onde \"palavra\" é a palavra de interesse. Isso retorna um vetor denso que representa a palavra no espaço vetorial.\n",
    "\n",
    "O modelo GloVe oferece várias funcionalidades úteis, como encontrar palavras mais similares a uma palavra específica, calcular a similaridade de cosseno entre duas palavras e realizar operações de palavras, como adição e subtração."
   ]
  },
  {
   "cell_type": "code",
   "execution_count": 52,
   "id": "b270b30a",
   "metadata": {},
   "outputs": [
    {
     "name": "stdout",
     "output_type": "stream",
     "text": [
      "\n",
      "palavras similares\n",
      "\n",
      "['skies', 'clouds', 'bright', 'blue', 'horizon']\n",
      "\n",
      "relações\n",
      "\n",
      "['queen']\n",
      "['women', 'man', 'couple', 'mother', 'her', 'wife', 'girl', 'she', 'female', 'sex']\n",
      "['milk', 'butter', 'calories', 'carbohydrates', 'cholesterol', 'flour', 'juice', 'soy', 'chocolate', 'cream']\n",
      "['summer', 'sports', 'olympics', 'olympic', 'skiing', 'games', 'autumn', 'spring', 'athletes', 'sporting']\n"
     ]
    }
   ],
   "source": [
    "print('\\npalavras similares\\n')\n",
    "similar_words = glove_model.most_similar(\"sky\", topn=5)\n",
    "l = [r[0] for r in similar_words]\n",
    "print(l)\n",
    "print('\\nrelações\\n')\n",
    "result = glove_model.most_similar(positive=[\"king\", \"woman\"], negative=[\"men\"], topn=1)\n",
    "l = [r[0] for r in result]\n",
    "print(l)\n",
    "result = glove_model.most_similar(positive=[\"woman\", \"men\", \"marriage\"], topn=10)\n",
    "l = [r[0] for r in result]\n",
    "print(l)\n",
    "result = glove_model.most_similar(positive=[\"sugar\", \"fat\"], topn=10)\n",
    "l = [r[0] for r in result]\n",
    "print(l)\n",
    "result = glove_model.most_similar(positive=[\"sport\", \"winter\"], topn=10)\n",
    "l = [r[0] for r in result]\n",
    "print(l)"
   ]
  },
  {
   "cell_type": "markdown",
   "id": "6ff9e4f5",
   "metadata": {},
   "source": [
    "Esses exemplos mostram como encontrar palavras similares a uma palavra específica, calcular a similaridade de cosseno entre duas palavras e realizar operações de palavras, respectivamente.\n",
    "\n",
    "A linha 7 realiza uma operação de similaridade com o modelo GloVe pré-treinado, utilizando a função <code>most_similar()</code> da biblioteca Gensim.\n",
    "\n",
    "A função <code>most_similar()</code> retorna as palavras mais similares a um conjunto de palavras de consulta, com base nos vetores de palavras do modelo GloVe. A ideia por trás desse cálculo é encontrar palavras que possuam relações semânticas ou contextuais semelhantes às palavras fornecidas.\n",
    "\n",
    "- <code>positive=[\"queen\", \"woman\"]</code>: fornece uma lista de palavras consideradas como \"positivas\" para a operação de similaridade. Nesse caso, as palavras são \"rei\" e \"mulher\", que podem representar um relacionamento ou associação específica que desejamos explorar.\n",
    "- <code>negative=[\"men\"]</code>: fornece uma lista de palavras consideradas como \"negativas\" para a operação de similaridade. Nesse caso, a palavra é \"homem\". Essa especificação ajuda a remover qualquer componente relacionado a \"homem\" da relação entre \"rei\" e \"mulher\". Essa construção permite explorar conceitos de analogia ou diferenciação.\n",
    "- <code>topn=1</code>: especifica que queremos obter apenas a palavra mais similar à relação entre \"rei\" e \"mulher\".\n",
    "\n",
    "O resultado retornado pela linha de código será um objeto que contém a palavra mais similar à relação especificada no caso \"queen\", rei mais mulher sem homem resulta em rainha. Esse resultado pode ser acessado para obter a palavra e sua pontuação de similaridade correspondente.\n",
    "\n",
    "O GloVe é uma abordagem eficiente e escalável para a geração de word embeddings de alta qualidade. Pode ser usado em várias tarefas de processamento de texto, como classificação de sentimentos, tradução automática, análise de sentimento, recuperação de informações, entre outros."
   ]
  }
 ],
 "metadata": {
  "kernelspec": {
   "display_name": "Python 3 (ipykernel)",
   "language": "python",
   "name": "python3"
  },
  "language_info": {
   "codemirror_mode": {
    "name": "ipython",
    "version": 3
   },
   "file_extension": ".py",
   "mimetype": "text/x-python",
   "name": "python",
   "nbconvert_exporter": "python",
   "pygments_lexer": "ipython3",
   "version": "3.8.5"
  }
 },
 "nbformat": 4,
 "nbformat_minor": 5
}
